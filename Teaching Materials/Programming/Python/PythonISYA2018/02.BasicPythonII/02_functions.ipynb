{
 "cells": [
  {
   "cell_type": "markdown",
   "metadata": {},
   "source": [
    "# Functions\n",
    "\n",
    "As in any other language *Python* allows for the definition of functions.\n",
    "Functions are a set of sequence of instructions that receive well define inputs\n",
    "and produce some outputs.\n",
    "\n",
    "To define a function *Python* uses the word `def`. The value that the function returns\n",
    "must be preceded by a `return`. The syntax would be:\n",
    "\n",
    "```python\n",
    "def FUNCTION_NAME(INPUTS):\n",
    "    INSTRUCTIONS\n",
    "    return OUTPUTS \n",
    "```\n",
    "\n",
    "or\n",
    "\n",
    "```python\n",
    "def FUNCTION_NAME(INPUTS):\n",
    "    INSTRUCTIONS\n",
    "```\n",
    "\n",
    "The `return` function is optional. Not every function should return an output. \n",
    "Some functions simply modify the inputs without producing any output.\n",
    "\n",
    "\n",
    "**Important**:\n",
    "The instructions and the return statements belonging to the fuction must be indented by *4 spaces* inside the header. Indentation is the only way that *Python* has to group lines of code.\n",
    "\n",
    "Let's have some simple examples"
   ]
  },
  {
   "cell_type": "code",
   "execution_count": null,
   "metadata": {},
   "outputs": [],
   "source": [
    "def square(a):\n",
    "    return a*a\n",
    "\n",
    "print(square(1), square(2), square(5))"
   ]
  },
  {
   "cell_type": "code",
   "execution_count": null,
   "metadata": {},
   "outputs": [],
   "source": [
    "square('a') # This should give an error"
   ]
  },
  {
   "cell_type": "code",
   "execution_count": null,
   "metadata": {},
   "outputs": [],
   "source": [
    "def minimum(a, b):\n",
    "    if a<b:\n",
    "        return a\n",
    "    elif b<a:\n",
    "        return b\n",
    "    else:\n",
    "        return a"
   ]
  },
  {
   "cell_type": "code",
   "execution_count": null,
   "metadata": {},
   "outputs": [],
   "source": [
    "minimum(4,5)"
   ]
  },
  {
   "cell_type": "code",
   "execution_count": null,
   "metadata": {},
   "outputs": [],
   "source": [
    "minimum(4,0)"
   ]
  },
  {
   "cell_type": "markdown",
   "metadata": {},
   "source": [
    "# Optional parameters\n",
    "\n",
    "Functions can have default parameters. These parameters are defined using the syntaxis `arg=value`, \n",
    "where `arg` is the argument name and `value` is the default value for that argument.\n",
    "\n",
    "Here are some examples"
   ]
  },
  {
   "cell_type": "code",
   "execution_count": null,
   "metadata": {},
   "outputs": [],
   "source": [
    "def power(a, b=2):\n",
    "    return a**b"
   ]
  },
  {
   "cell_type": "code",
   "execution_count": null,
   "metadata": {},
   "outputs": [],
   "source": [
    "power(2)"
   ]
  },
  {
   "cell_type": "code",
   "execution_count": null,
   "metadata": {},
   "outputs": [],
   "source": [
    "power(2, b=5) # This is the prefered way to change the default parameters "
   ]
  },
  {
   "cell_type": "code",
   "execution_count": null,
   "metadata": {},
   "outputs": [],
   "source": [
    "power(2,5) # This works as well"
   ]
  },
  {
   "cell_type": "markdown",
   "metadata": {},
   "source": [
    "# Exercise 2.1\n",
    "\n",
    "Define a function `distance` that takes as arguments two lists `a,b` and computes\n",
    "the Euclidean distance between the two:\n",
    "\n",
    "$$\n",
    "\\sqrt{\\sum_{i=0}^{N-1} (a_i - b_i)^2}\n",
    "$$\n",
    "\n",
    "Check your function with these three values\n",
    "```python\n",
    "distance([0,0], [1,1])\n",
    "1.4142135623730951\n",
    "```\n",
    "\n",
    "```python\n",
    "distance([1,5], [2,2])\n",
    "3.1622776601683795\n",
    "```\n",
    "\n",
    "```python\n",
    "distance([0,1,2], [2,3,4])\n",
    "3.4641016151377544\n",
    "```"
   ]
  },
  {
   "cell_type": "code",
   "execution_count": null,
   "metadata": {},
   "outputs": [],
   "source": []
  }
 ],
 "metadata": {
  "kernelspec": {
   "display_name": "Python 3",
   "language": "python",
   "name": "python3"
  },
  "language_info": {
   "codemirror_mode": {
    "name": "ipython",
    "version": 3
   },
   "file_extension": ".py",
   "mimetype": "text/x-python",
   "name": "python",
   "nbconvert_exporter": "python",
   "pygments_lexer": "ipython3",
   "version": "3.6.0"
  }
 },
 "nbformat": 4,
 "nbformat_minor": 2
}
