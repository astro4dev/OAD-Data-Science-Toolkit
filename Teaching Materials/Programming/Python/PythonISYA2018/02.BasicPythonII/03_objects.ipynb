{
 "cells": [
  {
   "cell_type": "markdown",
   "metadata": {},
   "source": [
    "# Objects\n",
    "\n",
    "*Python* is an object oriented language. As such it allows the definition of classes.\n",
    "\n",
    "For instance lists are also classes, that's why there are methods associated with them (i.e. `append()`). Here we will see how to create classes and assign them attributes and methods.\n"
   ]
  },
  {
   "cell_type": "markdown",
   "metadata": {},
   "source": [
    "## Definition and initialization\n",
    "\n",
    "A class gathers functions (called methods) and variables (called attributes).\n",
    "The main of goal of having this kind of structure is that the methods can share a common\n",
    "set of inputs to operate and get the desired outcome by the programmer.\n",
    "\n",
    "In *Python* classes are defined with the word `class` and are always initialized\n",
    "with the method ``__init__``, which is a function that *always* must have as input argument the\n",
    "word `self`. The arguments that come after `self` are used to initialize the class attributes.\n",
    "\n",
    "In the following example we create a class called ``Circle``.\n"
   ]
  },
  {
   "cell_type": "code",
   "execution_count": null,
   "metadata": {},
   "outputs": [],
   "source": [
    "class Circle:\n",
    "    def __init__(self, radius):\n",
    "        self.radius = radius #all attributes must be preceded by \"self.\""
   ]
  },
  {
   "cell_type": "markdown",
   "metadata": {},
   "source": [
    "To create an instance of this class we do it as follows"
   ]
  },
  {
   "cell_type": "code",
   "execution_count": null,
   "metadata": {},
   "outputs": [],
   "source": [
    "A = Circle(5.0)"
   ]
  },
  {
   "cell_type": "markdown",
   "metadata": {},
   "source": [
    "We can check that the initialization worked out fine by printing its attributes"
   ]
  },
  {
   "cell_type": "code",
   "execution_count": null,
   "metadata": {},
   "outputs": [],
   "source": [
    "print(A.radius)"
   ]
  },
  {
   "cell_type": "markdown",
   "metadata": {},
   "source": [
    "We now redefine the class to add new method called `area` that computes the area of the circle"
   ]
  },
  {
   "cell_type": "code",
   "execution_count": null,
   "metadata": {},
   "outputs": [],
   "source": [
    "class Circle:\n",
    "    def __init__(self, radius):\n",
    "        self.radius = radius #all attributes must be preceded by \"self.\"\n",
    "    def area(self):\n",
    "        import math\n",
    "        return math.pi * self.radius * self.radius"
   ]
  },
  {
   "cell_type": "code",
   "execution_count": null,
   "metadata": {},
   "outputs": [],
   "source": [
    "A = Circle(1.0)"
   ]
  },
  {
   "cell_type": "code",
   "execution_count": null,
   "metadata": {},
   "outputs": [],
   "source": [
    "print(A.radius)\n",
    "print(A.area())"
   ]
  },
  {
   "cell_type": "markdown",
   "metadata": {},
   "source": [
    "### Exercise 3.1\n",
    "\n",
    "Redefine the class `Circle` to include a new method called `perimeter` that returns the value of the circle's perimeter."
   ]
  },
  {
   "cell_type": "code",
   "execution_count": null,
   "metadata": {},
   "outputs": [],
   "source": []
  },
  {
   "cell_type": "markdown",
   "metadata": {},
   "source": [
    "We now want to define a method that returns a new Circle with twice the radius of the input Circle."
   ]
  },
  {
   "cell_type": "code",
   "execution_count": null,
   "metadata": {},
   "outputs": [],
   "source": [
    "class Circle:\n",
    "    def __init__(self, radius):\n",
    "        self.radius = radius #all attributes must be preceded by \"self.\"\n",
    "    def area(self):\n",
    "        import math\n",
    "        return math.pi * self.radius * self.radius\n",
    "    def enlarge(self):\n",
    "        return Circle(2.0*self.radius)"
   ]
  },
  {
   "cell_type": "code",
   "execution_count": null,
   "metadata": {},
   "outputs": [],
   "source": [
    "A = Circle(5.0) # Create a first circle\n",
    "B = A.enlarge() # Use the method to create a new Circle\n",
    "print(B.radius) # Check that the radius is twice as the original one."
   ]
  },
  {
   "cell_type": "markdown",
   "metadata": {},
   "source": [
    "We now add a new method that takes as an input another element of the class `Circle`\n",
    "and returns the total area of the two circles"
   ]
  },
  {
   "cell_type": "code",
   "execution_count": null,
   "metadata": {},
   "outputs": [],
   "source": [
    "class Circle:\n",
    "    def __init__(self, radius):\n",
    "        self.radius = radius #all attributes must be preceded by \"self.\"\n",
    "    def area(self):\n",
    "        import math\n",
    "        return math.pi * self.radius * self.radius\n",
    "    def enlarge(self):\n",
    "        return Circle(2.0*self.radius)\n",
    "    def add_area(self, c):\n",
    "        return self.area() + c.area()"
   ]
  },
  {
   "cell_type": "code",
   "execution_count": null,
   "metadata": {},
   "outputs": [],
   "source": [
    "A = Circle(1.0)\n",
    "B = Circle(2.0)\n",
    "print(A.add_area(B))\n",
    "print(B.add_area(A))"
   ]
  },
  {
   "cell_type": "markdown",
   "metadata": {},
   "source": [
    "### Exercise 3.2\n",
    "\n",
    "Define the class `Vector3D` to represent vectors in 3D.\n",
    "The class must have\n",
    "\n",
    "* Three attributes: `x`, `y`, and `z`, to store the coordinates.\n",
    "\n",
    "* A method called `dot` that computes the dot product\n",
    "\n",
    "    $$\\vec{v} \\cdot \\vec{w} = v_{x}w_{x} + v_{y}w_{y} + v_{z}w_{z}$$\n",
    "\n",
    "  The method could then be used as follows\n",
    "  \n",
    "```python\n",
    "v = Vector3D(2, 0, 1)\n",
    "w = Vector3D(1, -1, 3)\n",
    "```\n",
    "    \n",
    "```python\n",
    "v.dot(w)\n",
    "5\n",
    "```"
   ]
  },
  {
   "cell_type": "code",
   "execution_count": null,
   "metadata": {},
   "outputs": [],
   "source": []
  }
 ],
 "metadata": {
  "kernelspec": {
   "display_name": "Python 3",
   "language": "python",
   "name": "python3"
  },
  "language_info": {
   "codemirror_mode": {
    "name": "ipython",
    "version": 3
   },
   "file_extension": ".py",
   "mimetype": "text/x-python",
   "name": "python",
   "nbconvert_exporter": "python",
   "pygments_lexer": "ipython3",
   "version": "3.6.0"
  }
 },
 "nbformat": 4,
 "nbformat_minor": 2
}
