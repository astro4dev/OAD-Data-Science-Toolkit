{
 "cells": [
  {
   "cell_type": "markdown",
   "metadata": {},
   "source": [
    "# Time and coordinates"
   ]
  },
  {
   "cell_type": "code",
   "execution_count": null,
   "metadata": {},
   "outputs": [],
   "source": [
    "import matplotlib \n",
    "matplotlib.use('Agg')\n",
    "\n",
    "import numpy as np\n",
    "import matplotlib.pyplot as plt\n",
    "\n",
    "%matplotlib inline "
   ]
  },
  {
   "cell_type": "markdown",
   "metadata": {},
   "source": [
    "We are going to use astropy to find out whether the Large Magellanic Cloud (LMC) is visible from the a given observatory at a given time and date. \n",
    "\n",
    "In the process we need to manipulate different coordinates and time definitions."
   ]
  },
  {
   "cell_type": "code",
   "execution_count": null,
   "metadata": {},
   "outputs": [],
   "source": [
    "import astropy.units as u\n",
    "from astropy.time import Time\n",
    "from astropy.coordinates import SkyCoord, EarthLocation, AltAz"
   ]
  },
  {
   "cell_type": "markdown",
   "metadata": {},
   "source": [
    "Let's start by getting the coordinates of the LMC"
   ]
  },
  {
   "cell_type": "code",
   "execution_count": null,
   "metadata": {},
   "outputs": [],
   "source": [
    "lmc_center = SkyCoord.from_name('LMC')"
   ]
  },
  {
   "cell_type": "code",
   "execution_count": null,
   "metadata": {},
   "outputs": [],
   "source": [
    "lmc_center"
   ]
  },
  {
   "cell_type": "markdown",
   "metadata": {},
   "source": [
    "`lmc_center` is an instance of a class `astropy.coordinates.sky_coordinate.SkyCoord`"
   ]
  },
  {
   "cell_type": "code",
   "execution_count": null,
   "metadata": {},
   "outputs": [],
   "source": [
    "type(lmc_center) "
   ]
  },
  {
   "cell_type": "markdown",
   "metadata": {},
   "source": [
    "The full list of attributes and methods can be found using `dir()`"
   ]
  },
  {
   "cell_type": "code",
   "execution_count": null,
   "metadata": {},
   "outputs": [],
   "source": [
    "dir(lmc_center)"
   ]
  },
  {
   "cell_type": "code",
   "execution_count": null,
   "metadata": {},
   "outputs": [],
   "source": [
    "# To get the ra and dec we print the corresponding attribute\n",
    "print(lmc_center.ra, lmc_center.dec) # units of degrees for RA\n",
    "print(lmc_center.ra.hour, lmc_center.dec) # units of hours for RA"
   ]
  },
  {
   "cell_type": "markdown",
   "metadata": {},
   "source": [
    "An optional way to initialize an object belonging to the class SkyCoord would be\n",
    "\n",
    "```python\n",
    "option = SkyCoord('0h39m00', '0d53m1s', frame='icrs')\n",
    "```"
   ]
  },
  {
   "cell_type": "markdown",
   "metadata": {},
   "source": [
    "To find out whether the LMC will be visible from the observatory, we have to define \n",
    "the observatory location and the time of the year.\n",
    "\n",
    "Let's assume that we are going to observe from SALT (`Southern African Large Telescope`)."
   ]
  },
  {
   "cell_type": "code",
   "execution_count": null,
   "metadata": {},
   "outputs": [],
   "source": [
    "SALT = EarthLocation.of_site(\"Southern African Large Telescope\")"
   ]
  },
  {
   "cell_type": "code",
   "execution_count": null,
   "metadata": {},
   "outputs": [],
   "source": [
    "SALT.lat, SALT.lon, SALT.height"
   ]
  },
  {
   "cell_type": "markdown",
   "metadata": {},
   "source": [
    "You can get a list of observatory locations with:\n",
    "\n",
    "```python\n",
    "EarthLocation.get_site_names()\n",
    "```\n",
    "\n",
    "If your observatory is not listed in `astropy` you can initialize its location using\n",
    "\n",
    "```python\n",
    "my_observatory = EarthLocation(lat=4.0*u.deg, lon=-75.0*u.deg, height=4000*u.m)\n",
    "```"
   ]
  },
  {
   "cell_type": "markdown",
   "metadata": {},
   "source": [
    "Now let's fix the observation date and time. We are going to use a different class for that"
   ]
  },
  {
   "cell_type": "code",
   "execution_count": null,
   "metadata": {},
   "outputs": [],
   "source": [
    "time = Time('2017-11-11 21:00:00') # That's in Universal Time Coordinated!"
   ]
  },
  {
   "cell_type": "code",
   "execution_count": null,
   "metadata": {},
   "outputs": [],
   "source": [
    "time"
   ]
  },
  {
   "cell_type": "markdown",
   "metadata": {},
   "source": [
    "We now have all the elements to compute the Altitude + Azimuth coordinates of the LMC at SALT location on November 11th 2017 at 9PM UTC."
   ]
  },
  {
   "cell_type": "code",
   "execution_count": null,
   "metadata": {},
   "outputs": [],
   "source": [
    "lmg_altaz = lmc_center.transform_to(AltAz(obstime=time,location=SALT))"
   ]
  },
  {
   "cell_type": "code",
   "execution_count": null,
   "metadata": {},
   "outputs": [],
   "source": [
    "print(lmg_altaz.az, lmg_altaz.alt) "
   ]
  },
  {
   "cell_type": "markdown",
   "metadata": {},
   "source": [
    "With 42 degrees altitude it looks like the LMC was observable with SALT on November 11th 2017 at 9PM UTC!"
   ]
  },
  {
   "cell_type": "markdown",
   "metadata": {},
   "source": [
    "# Exercise 2.1\n",
    "\n",
    "Plot the altitude of M31 (the Andromeda galaxy) at `Las Campanas Observatory` on March 10th 2019 between 6PM and 6AM **LOCAL TIME**.\n",
    "\n",
    "**Hint**  The following *Python* code is valid to get the `time`  30 minutes later than a given time and date.\n",
    "\n",
    "```python\n",
    "time = Time('2019-03-10 18:00:00') + 0.5*u.hour\n",
    "```\n",
    "\n",
    "Will be M31 observable that night at Las Campanas?"
   ]
  },
  {
   "cell_type": "code",
   "execution_count": null,
   "metadata": {},
   "outputs": [],
   "source": []
  }
 ],
 "metadata": {
  "kernelspec": {
   "display_name": "Python 3",
   "language": "python",
   "name": "python3"
  },
  "language_info": {
   "codemirror_mode": {
    "name": "ipython",
    "version": 3
   },
   "file_extension": ".py",
   "mimetype": "text/x-python",
   "name": "python",
   "nbconvert_exporter": "python",
   "pygments_lexer": "ipython3",
   "version": "3.6.0"
  }
 },
 "nbformat": 4,
 "nbformat_minor": 2
}
