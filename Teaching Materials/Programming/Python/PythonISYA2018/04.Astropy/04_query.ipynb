{
 "cells": [
  {
   "cell_type": "markdown",
   "metadata": {},
   "source": [
    "# Querying data from SDSS\n",
    "\n",
    "The Sloan Digital Sky Survey (SDSS) is one the most influential surveys performed so far.\n",
    "Here we will learn how to get data from SDSS: nice jpg images, science images (in FITS format) and spectra (also stored as FITS).\n",
    "    \n",
    "    \n",
    "We will recycle info from the following tuturials:  \n",
    "\n",
    "http://astropy-tutorials.readthedocs.io/en/latest/rst-tutorials/Coordinates-Intro.html  \n",
    "http://www.astropy.org/astroquery/"
   ]
  },
  {
   "cell_type": "code",
   "execution_count": null,
   "metadata": {},
   "outputs": [],
   "source": [
    "# Required to see plots when running on mybinder\n",
    "import matplotlib \n",
    "matplotlib.use('Agg')\n",
    "\n",
    "import numpy as np\n",
    "import matplotlib.pyplot as plt\n",
    "\n",
    "%matplotlib inline \n",
    "\n",
    "# Python standard-libraries to download data from the web\n",
    "from urllib.parse import urlencode\n",
    "from urllib.request import urlretrieve\n",
    "\n",
    "#Some astropy submodules that you know already\n",
    "from astropy import units as u\n",
    "from astropy import coordinates as coords\n",
    "from astropy.coordinates import SkyCoord\n",
    "from astropy.io import fits\n",
    "\n",
    "\n",
    "#only here to display images\n",
    "from IPython.display import Image\n",
    "\n",
    "# These are the new modules for this notebook\n",
    "from astroquery.simbad import Simbad\n",
    "from astroquery.sdss import SDSS"
   ]
  },
  {
   "cell_type": "markdown",
   "metadata": {},
   "source": [
    "The first thing is getting the coordinates for an object of interest, in this case `NCG5406`"
   ]
  },
  {
   "cell_type": "code",
   "execution_count": null,
   "metadata": {},
   "outputs": [],
   "source": [
    "galaxy_name = 'NGC5406'\n",
    "galaxy = SkyCoord.from_name(galaxy_name)"
   ]
  },
  {
   "cell_type": "code",
   "execution_count": null,
   "metadata": {},
   "outputs": [],
   "source": [
    "pos = coords.SkyCoord(galaxy.ra, galaxy.dec, frame='icrs')\n",
    "print(pos)"
   ]
  },
  {
   "cell_type": "markdown",
   "metadata": {},
   "source": [
    "We can now get a picture from the SDSS DR12 image service"
   ]
  },
  {
   "cell_type": "code",
   "execution_count": null,
   "metadata": {},
   "outputs": [],
   "source": [
    "im_size = 3*u.arcmin # get a 25 arcmin square\n",
    "im_pixels = 1024\n",
    "cutoutbaseurl = 'http://skyservice.pha.jhu.edu/DR12/ImgCutout/getjpeg.aspx'\n",
    "query_string = urlencode(dict(ra=galaxy.ra.deg,\n",
    "                              dec=galaxy.dec.deg,\n",
    "                              width=im_pixels, height=im_pixels,\n",
    "                              scale=im_size.to(u.arcsec).value/im_pixels))\n",
    "url = cutoutbaseurl + '?' + query_string\n",
    "\n",
    "# this downloads the image\n",
    "image_name = galaxy_name+'_SDSS_cutout.jpg'\n",
    "urlretrieve(url, image_name)"
   ]
  },
  {
   "cell_type": "code",
   "execution_count": null,
   "metadata": {},
   "outputs": [],
   "source": [
    "Image(image_name) #load the image into the notebook"
   ]
  },
  {
   "cell_type": "markdown",
   "metadata": {},
   "source": [
    "Now we need to get the identification numbers to grab the data from SDSS"
   ]
  },
  {
   "cell_type": "code",
   "execution_count": null,
   "metadata": {},
   "outputs": [],
   "source": [
    "xid = SDSS.query_region(pos, spectro=True)"
   ]
  },
  {
   "cell_type": "code",
   "execution_count": null,
   "metadata": {},
   "outputs": [],
   "source": [
    "print(xid)"
   ]
  },
  {
   "cell_type": "markdown",
   "metadata": {},
   "source": [
    "We can finally dowload the data. The spectra in this case."
   ]
  },
  {
   "cell_type": "code",
   "execution_count": null,
   "metadata": {},
   "outputs": [],
   "source": [
    "spectra = SDSS.get_spectra(matches=xid)"
   ]
  },
  {
   "cell_type": "raw",
   "metadata": {},
   "source": [
    "`spectra[0]` stores all the files related to the spectra for the object of interest.\n",
    "This is actually an array of several HDU in the FITS format"
   ]
  },
  {
   "cell_type": "code",
   "execution_count": null,
   "metadata": {},
   "outputs": [],
   "source": [
    "spectra[0]"
   ]
  },
  {
   "cell_type": "markdown",
   "metadata": {},
   "source": [
    "The spectrum is stored as a table in the second item of the list.\n",
    "That means that we can get the Table doing the following"
   ]
  },
  {
   "cell_type": "code",
   "execution_count": null,
   "metadata": {},
   "outputs": [],
   "source": [
    "spectra_data = spectra[0][1].data"
   ]
  },
  {
   "cell_type": "markdown",
   "metadata": {},
   "source": [
    "If we pass `spectra_data` to the interpreter we can see the structure of that table. \n",
    "Pay attention to the field `dtype` (data type). It tells you the name of the different columns available in that table.\n",
    "\n",
    "Please also check the documentation so that you can see what are the units\n",
    "https://data.sdss.org/datamodel/files/BOSS_SPECTRO_REDUX/RUN2D/spectra/PLATE4/spec.html"
   ]
  },
  {
   "cell_type": "code",
   "execution_count": null,
   "metadata": {},
   "outputs": [],
   "source": [
    "spectra_data"
   ]
  },
  {
   "cell_type": "code",
   "execution_count": null,
   "metadata": {},
   "outputs": [],
   "source": [
    "plt.plot(10**spectra_data['loglam'], spectra_data['flux'])\n",
    "plt.xlabel('wavelenght (Angstrom)')\n",
    "plt.ylabel('flux (nanomaggies)')\n",
    "plt.title('SDSS spectra of '+galaxy_name)"
   ]
  },
  {
   "cell_type": "markdown",
   "metadata": {},
   "source": [
    "The fourth record stores the positions of some emission lines"
   ]
  },
  {
   "cell_type": "code",
   "execution_count": null,
   "metadata": {},
   "outputs": [],
   "source": [
    "spectra[0][3].data"
   ]
  },
  {
   "cell_type": "code",
   "execution_count": null,
   "metadata": {},
   "outputs": [],
   "source": [
    "lines = spectra[0][3].data"
   ]
  },
  {
   "cell_type": "code",
   "execution_count": null,
   "metadata": {},
   "outputs": [],
   "source": [
    "lines['LINENAME']"
   ]
  },
  {
   "cell_type": "markdown",
   "metadata": {},
   "source": [
    "Let's print the wavelenght for some of them:"
   ]
  },
  {
   "cell_type": "code",
   "execution_count": null,
   "metadata": {},
   "outputs": [],
   "source": [
    "for n in ['[O_II] 3727', '[O_III] 5007', 'H_alpha']:\n",
    "    print(n, \" ->\", lines['LINEWAVE'][lines['LINENAME']==n])"
   ]
  },
  {
   "cell_type": "markdown",
   "metadata": {},
   "source": [
    "Overplotting these lines on the spectrum"
   ]
  },
  {
   "cell_type": "code",
   "execution_count": null,
   "metadata": {},
   "outputs": [],
   "source": [
    "plt.plot(10**spectra_data['loglam'], spectra_data['flux'], color='black')\n",
    "plt.axvline(x=lines['LINEWAVE'][lines['LINENAME']=='[O_II] 3727'], label=r'O[II]', color='blue')\n",
    "plt.axvline(x=lines['LINEWAVE'][lines['LINENAME']=='[O_III] 5007'], label=r'O[III]', color='red')\n",
    "plt.axvline(x=lines['LINEWAVE'][lines['LINENAME']=='H_alpha'], label=r'H$\\alpha$', color='green')\n",
    "\n",
    "plt.xlabel('wavelenght (Angstrom)')\n",
    "plt.ylabel('flux (nanomaggies)')\n",
    "plt.title('SDSS spectra of '+galaxy_name)\n",
    "plt.legend()"
   ]
  },
  {
   "cell_type": "markdown",
   "metadata": {},
   "source": [
    "We can also get the images in the different SDSS bands (u,g,r,i,z)\n",
    "\n",
    "The documentation describing the imaging data is here:\n",
    "https://data.sdss.org/datamodel/files/BOSS_PHOTOOBJ/frames/RERUN/RUN/CAMCOL/frame.html"
   ]
  },
  {
   "cell_type": "code",
   "execution_count": null,
   "metadata": {},
   "outputs": [],
   "source": [
    "images = SDSS.get_images(matches=xid, band='g')"
   ]
  },
  {
   "cell_type": "code",
   "execution_count": null,
   "metadata": {},
   "outputs": [],
   "source": [
    "image_data =  images[0][0].data"
   ]
  },
  {
   "cell_type": "code",
   "execution_count": null,
   "metadata": {},
   "outputs": [],
   "source": []
  },
  {
   "cell_type": "code",
   "execution_count": null,
   "metadata": {},
   "outputs": [],
   "source": []
  },
  {
   "cell_type": "code",
   "execution_count": null,
   "metadata": {},
   "outputs": [],
   "source": [
    "plt.figure(figsize=(10,10))\n",
    "plt.imshow(image_data)\n",
    "plt.colorbar()"
   ]
  },
  {
   "cell_type": "markdown",
   "metadata": {},
   "source": [
    "That wasn't very nice! Where is the galaxy? What happens is that the flux values in some of the pixels are very high compare to the typical flux. \n",
    "\n",
    "To see something we will create a clipped image, meanign that any pixel with a flux with larger than `1` will be set to `1`."
   ]
  },
  {
   "cell_type": "code",
   "execution_count": null,
   "metadata": {},
   "outputs": [],
   "source": [
    "clipped_image = image_data.copy()\n",
    "clipped_image[clipped_image>1.0]=1.0"
   ]
  },
  {
   "cell_type": "code",
   "execution_count": null,
   "metadata": {},
   "outputs": [],
   "source": [
    "plt.figure(figsize=(10,10))\n",
    "plt.imshow(clipped_image)\n",
    "plt.colorbar()"
   ]
  },
  {
   "cell_type": "markdown",
   "metadata": {},
   "source": [
    "This look better now. We now see where is the galaxy.\n",
    "\n",
    "We end now by cropping the image onto the galaxy and taking the logarithm of the flux in the original data without clipping. This should allows us to see the galaxy structture in the image:"
   ]
  },
  {
   "cell_type": "code",
   "execution_count": null,
   "metadata": {},
   "outputs": [],
   "source": [
    "plt.figure(figsize=(10,10))\n",
    "plt.imshow(np.log10(image_data[125:475,750:1100]))\n",
    "plt.colorbar()"
   ]
  },
  {
   "cell_type": "markdown",
   "metadata": {},
   "source": [
    "### Exercise 4.1\n",
    "\n",
    "Identify at least three of the lines seen in the spectrum of `NGC5406`.\n",
    "Using that information, what is the redshift of this galaxy?"
   ]
  },
  {
   "cell_type": "code",
   "execution_count": null,
   "metadata": {},
   "outputs": [],
   "source": []
  },
  {
   "cell_type": "markdown",
   "metadata": {},
   "source": [
    "### Exercise 4.2\n",
    "\n",
    "Download the FITS images in the filters u,g,r,z,i for `NGC5406`. Plot in five different\n",
    "panels the logarithm of the flux in each of the bands (always cropping around the galaxy). \n",
    "Why do the images look different?"
   ]
  },
  {
   "cell_type": "code",
   "execution_count": null,
   "metadata": {},
   "outputs": [],
   "source": []
  },
  {
   "cell_type": "markdown",
   "metadata": {},
   "source": [
    "### Exercise 4.3\n",
    "\n",
    "Compute the radial flux profile of `NGC5406`. To do that take 10 different lines starting from \n",
    "the center of the galaxy and plot the flux as a function of radius for those ten lines.\n",
    "What kind of function should fit your results?"
   ]
  },
  {
   "cell_type": "code",
   "execution_count": null,
   "metadata": {},
   "outputs": [],
   "source": []
  },
  {
   "cell_type": "markdown",
   "metadata": {},
   "source": [
    "### Exercise 4.4\n",
    "\n",
    "Repeat the same producedure of this notebook (including the exercises 4.2 and 4.3) for \n",
    "the galaxy `SDSS J013755.71+010004.9`. \n",
    "\n",
    "Why does this galaxy look so different from `NGC5406`?\n"
   ]
  },
  {
   "cell_type": "code",
   "execution_count": null,
   "metadata": {},
   "outputs": [],
   "source": []
  }
 ],
 "metadata": {
  "kernelspec": {
   "display_name": "Python 3",
   "language": "python",
   "name": "python3"
  },
  "language_info": {
   "codemirror_mode": {
    "name": "ipython",
    "version": 3
   },
   "file_extension": ".py",
   "mimetype": "text/x-python",
   "name": "python",
   "nbconvert_exporter": "python",
   "pygments_lexer": "ipython3",
   "version": "3.6.5"
  }
 },
 "nbformat": 4,
 "nbformat_minor": 2
}
