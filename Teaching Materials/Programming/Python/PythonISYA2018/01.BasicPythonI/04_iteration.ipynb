{
 "cells": [
  {
   "cell_type": "markdown",
   "metadata": {},
   "source": [
    "# Iteration\n",
    "\n",
    "One of the most basic operations in programming is iterating over a list of elements to perform some kind of operation.\n",
    "\n",
    "In python we use the `for` statement to iterate. It is easier to use than the same statement in C, C++ or FORTRAN because instead of running over a integer index it takes as an input any iterable object and runs over it.\n",
    "\n",
    "Let's see some examples"
   ]
  },
  {
   "cell_type": "markdown",
   "metadata": {},
   "source": [
    "## Iterating over lists\n",
    "\n",
    "Lists are ordered. Iteration is done in the same order as the input list."
   ]
  },
  {
   "cell_type": "code",
   "execution_count": null,
   "metadata": {},
   "outputs": [],
   "source": [
    "a = [4,5,6,8,10]\n",
    "for i in a:\n",
    "    print(i)"
   ]
  },
  {
   "cell_type": "code",
   "execution_count": null,
   "metadata": {},
   "outputs": [],
   "source": [
    "# A fragment of `One Hundred Years of Solitude`\n",
    "GGM = 'Many years later, as he faced the firing squad, \\\n",
    "Colonel Aureliano Buendía was to remember that dist \\\n",
    "ant afternoon when his father took him to discover ice. \\\n",
    "At that time Macondo was a village of twenty adobe houses,\\\n",
    "built on the bank of a river of clear water that ran along \\\n",
    "a bed of polished stones, which were white and enormous,\\\n",
    "like prehistoric eggs.'\n",
    "print(GGM)"
   ]
  },
  {
   "cell_type": "code",
   "execution_count": null,
   "metadata": {},
   "outputs": [],
   "source": [
    "dot = GGM.split()  # we create a list where each element is a word\n",
    "print(dot)\n",
    "for i in dot:\n",
    "    print(i)"
   ]
  },
  {
   "cell_type": "markdown",
   "metadata": {},
   "source": [
    "## Iterating over dictionaries\n",
    "Dictionaries are not ordered. Iterating over them does not have to produce an order sequence."
   ]
  },
  {
   "cell_type": "code",
   "execution_count": null,
   "metadata": {},
   "outputs": [],
   "source": [
    "a = {} # empty dictionary\n",
    "a[1] = 'one'\n",
    "a[2] = 'two'\n",
    "a[3] = 'three'\n",
    "a[4] = 'four'\n",
    "a[5] = 'five'\n",
    "print(a)"
   ]
  },
  {
   "cell_type": "code",
   "execution_count": null,
   "metadata": {},
   "outputs": [],
   "source": [
    "for k in a.keys(): # iterate over the keys\n",
    "    print(a[k])"
   ]
  },
  {
   "cell_type": "code",
   "execution_count": null,
   "metadata": {},
   "outputs": [],
   "source": [
    "for v in a.values(): #iterate over the values\n",
    "    print(v)"
   ]
  },
  {
   "cell_type": "markdown",
   "metadata": {},
   "source": [
    "## Iterating over a sequence\n",
    "\n",
    "The function `range()` is useful to generate a sequence of integers that can be used to iterate."
   ]
  },
  {
   "cell_type": "code",
   "execution_count": null,
   "metadata": {},
   "outputs": [],
   "source": [
    "print(range(10)) # range itself returns an iterable object\n",
    "a = list(range(10)) # this translates that iterable object into a list\n",
    "print(a) # be careful! the lists has 10 objects starting with 0"
   ]
  },
  {
   "cell_type": "code",
   "execution_count": null,
   "metadata": {},
   "outputs": [],
   "source": [
    "for i in range(10): # if you given a single argument the iterations starts at 0.\n",
    "    print(i)"
   ]
  },
  {
   "cell_type": "code",
   "execution_count": null,
   "metadata": {},
   "outputs": [],
   "source": [
    "for i in range(4,10): # you can algo give two arguments: range(start, end). \n",
    "    print(i)"
   ]
  },
  {
   "cell_type": "code",
   "execution_count": null,
   "metadata": {},
   "outputs": [],
   "source": [
    "for i in range(0,10,3): # if you give three arguments they are interpreted as range(start, end, step)\n",
    "    print(i)"
   ]
  },
  {
   "cell_type": "markdown",
   "metadata": {},
   "source": [
    "# Exercise 4.01\n",
    "Write a `for` cycle that prints the sequence: 5, 4, 3, 2, 1, 0."
   ]
  },
  {
   "cell_type": "code",
   "execution_count": null,
   "metadata": {},
   "outputs": [],
   "source": []
  },
  {
   "cell_type": "markdown",
   "metadata": {},
   "source": [
    "# Exercise 4.02\n",
    "\n",
    "The following can be used to generate a random number between 0 and 1:\n",
    "\n",
    "```python\n",
    "import random\n",
    "a = random.random()\n",
    "```\n",
    "Use `random.random()` and a `for` cycle to compute the sum of 100 random numbers."
   ]
  },
  {
   "cell_type": "code",
   "execution_count": null,
   "metadata": {},
   "outputs": [],
   "source": []
  },
  {
   "cell_type": "markdown",
   "metadata": {},
   "source": [
    "# Exercise 4.03\n",
    "\n",
    "Use the results from the previous exercise to compute the standard deviation of \n",
    "a list of `1000` numbers where each number is itself the sum of `N=100` random numbers. \n",
    "What is the answer if `N=200`? `N=300`? "
   ]
  },
  {
   "cell_type": "code",
   "execution_count": null,
   "metadata": {},
   "outputs": [],
   "source": []
  }
 ],
 "metadata": {
  "kernelspec": {
   "display_name": "Python 3",
   "language": "python",
   "name": "python3"
  },
  "language_info": {
   "codemirror_mode": {
    "name": "ipython",
    "version": 3
   },
   "file_extension": ".py",
   "mimetype": "text/x-python",
   "name": "python",
   "nbconvert_exporter": "python",
   "pygments_lexer": "ipython3",
   "version": "3.6.0"
  }
 },
 "nbformat": 4,
 "nbformat_minor": 2
}
