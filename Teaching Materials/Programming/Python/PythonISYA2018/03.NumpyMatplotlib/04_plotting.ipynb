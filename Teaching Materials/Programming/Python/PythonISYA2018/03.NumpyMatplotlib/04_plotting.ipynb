{
 "cells": [
  {
   "cell_type": "markdown",
   "metadata": {},
   "source": [
    "## Basic usage of matplotlib\n",
    "\n",
    "Matplotlib is the module of choice whenever you want to make a niceplot.\n"
   ]
  },
  {
   "cell_type": "code",
   "execution_count": null,
   "metadata": {
    "collapsed": true
   },
   "outputs": [],
   "source": [
    "# the following two lines are required to run the notebook on mybinder. \n",
    "import matplotlib \n",
    "matplotlib.use('Agg')\n",
    "\n",
    "import numpy as np\n",
    "import matplotlib.pyplot as plt # this is the only line required to make plots with matplotlibt\n",
    "\n",
    "# this line allows you to see the plot inside the notebook\n",
    "%matplotlib inline "
   ]
  },
  {
   "cell_type": "code",
   "execution_count": null,
   "metadata": {},
   "outputs": [],
   "source": [
    "# This is a simple example to make an scatter plot\n",
    "plt.figure() # Create and empty figure\n",
    "x = [3,4,5]\n",
    "y = [-1,2,2]\n",
    "plt.scatter(x,y) "
   ]
  },
  {
   "cell_type": "code",
   "execution_count": null,
   "metadata": {
    "collapsed": true
   },
   "outputs": [],
   "source": [
    "# This is another plot where we save the figure at the end as png file.\n",
    "\n",
    "x = np.linspace(0,5,10)\n",
    "y = x**2 \n",
    "\n",
    "plt.figure() # creates an empty figure\n",
    "\n",
    "plt.scatter(x,y) # scatter plot\n",
    "\n",
    "plt.xlabel(\"x\") \n",
    "plt.ylabel(\"y\") \n",
    "plt.title(\"Simple scatter plot\") \n",
    "\n",
    "plt.savefig(\"thefig.png\") # Saves the figure\n"
   ]
  },
  {
   "cell_type": "code",
   "execution_count": null,
   "metadata": {},
   "outputs": [],
   "source": [
    "\n",
    "plt.figure()\n",
    "x = np.linspace(-5.0,5.0,100)\n",
    "y = 1./(1.+x**2)\n",
    "\n",
    "plt.plot(x,y) # This time a line connect the points\n",
    "plt.title(u\"$\\lambda$\") # you can use latex\n"
   ]
  },
  {
   "cell_type": "code",
   "execution_count": null,
   "metadata": {},
   "outputs": [],
   "source": [
    "# After initializing plt.figure() you can make multiple plots \n",
    "plt.figure()\n",
    "plt.plot(range(10),2*np.arange(10))\n",
    "plt.plot(range(10),3*np.arange(10))\n",
    "plt.scatter(range(10),3*np.arange(10)) \n"
   ]
  },
  {
   "cell_type": "code",
   "execution_count": null,
   "metadata": {},
   "outputs": [],
   "source": [
    "# Now let's make some simple figures\n",
    "# In this case: circles \n",
    "\n",
    "theta=np.linspace(0, 2*np.pi,50) # 50 points between 0 and 2pi\n",
    "\n",
    "plt.figure()\n",
    "\n",
    "plt.axis(\"equal\")# this gives the same apparent size to the x and y axis\n",
    "plt.axis(\"off\") # this removes the axis\n",
    "\n",
    "for i in range(5):\n",
    "    # Elegir el centro del círculo\n",
    "    x = 2*np.random.random()-1 # random value for the center in x\n",
    "    y = 2*np.random.random()-1 # random value for the center in y\n",
    "    r = np.random.random() # random value for the radius\n",
    "    plt.plot(r * np.cos(theta) + x, r * np.sin(theta) + y)\n"
   ]
  },
  {
   "cell_type": "markdown",
   "metadata": {},
   "source": [
    "## Subplots\n",
    "\n",
    "You can produce multiple plots inside the same figure."
   ]
  },
  {
   "cell_type": "code",
   "execution_count": null,
   "metadata": {},
   "outputs": [],
   "source": [
    "plt.figure(figsize=(10,5))\n",
    "a = np.linspace(0,2*np.pi,100)\n",
    "\n",
    "plt.subplot(2,2,1)\n",
    "plt.plot(a,np.sin(a))\n",
    "plt.title(\"sin\")\n",
    "\n",
    "plt.subplot(2,2,2)\n",
    "plt.plot(a,np.cos(a))\n",
    "plt.title(u\"cos\")\n",
    "\n",
    "plt.subplot(2,2,3)\n",
    "plt.plot(a,np.tan(a))\n",
    "plt.ylim(-2,2)\n",
    "plt.title(u\"tan\")\n",
    "\n",
    "plt.subplot(2,2,4)\n",
    "plt.plot(a,np.cos(a)**2)\n",
    "plt.title(r\"$\\cos^2$\")\n",
    "plt.subplots_adjust(hspace=.5) # adjusts the horizontal space between the subplots\n"
   ]
  },
  {
   "cell_type": "code",
   "execution_count": null,
   "metadata": {},
   "outputs": [],
   "source": [
    "# this an almost empty figure, only plotting text, so that you can see what is the ordering when you call plt.subplot(5,5,k)\n",
    "\n",
    "plt.figure(figsize=(10,10))\n",
    "k = 1\n",
    "for n in range(1,6):\n",
    "    for d in range(1,6):\n",
    "        plt.subplot(5,5,k)\n",
    "        plt.plot()\n",
    "        plt.text(0,0,\"k=\"+str(k))\n",
    "        plt.axis(\"off\") # esto elimina los ejes\n",
    "        plt.axis(\"equal\")\n",
    "        k = k + 1\n"
   ]
  },
  {
   "cell_type": "code",
   "execution_count": null,
   "metadata": {},
   "outputs": [],
   "source": [
    "# Drawing some roses\n",
    "# http://en.wikipedia.org/wiki/Rose_%28mathematics%29\n",
    "plt.figure(figsize=(10,10))\n",
    "k = 1\n",
    "for n in range(1,6):\n",
    "    for d in range(1,6):\n",
    "        plt.subplot(5,5,k)\n",
    "        kah = n/d\n",
    "        a = np.linspace(0,2*d*np.pi,200)\n",
    "        r = np.sin(kah * a)\n",
    "        x = r * np.cos(a)\n",
    "        y = r * np.sin(a)\n",
    "        plt.plot(x,y)\n",
    "        plt.axis(\"off\") \n",
    "        plt.axis(\"equal\")\n",
    "        k = k + 1\n",
    "plt.show()"
   ]
  },
  {
   "cell_type": "markdown",
   "metadata": {},
   "source": [
    "## Legends"
   ]
  },
  {
   "cell_type": "code",
   "execution_count": null,
   "metadata": {},
   "outputs": [],
   "source": [
    "# Adding legends to different lines in the same plot\n",
    "plt.figure()\n",
    "x = np.linspace(0,2*np.pi,20)\n",
    "plt.plot(x,np.sin(x),\"or-\",label='sin(x)')\n",
    "plt.plot(x,np.cos(x),\"ob-\",label='cos(x)')\n",
    "plt.legend()\n",
    "plt.axis([0,2*np.pi,-1,1])"
   ]
  },
  {
   "cell_type": "markdown",
   "metadata": {},
   "source": [
    "### Exercise 4.1\n",
    "\n",
    "Make a plot of the Lissajous curve corresponding to $a=5$, $b=4$.\n",
    "See https://en.wikipedia.org/wiki/Lissajous_curve"
   ]
  },
  {
   "cell_type": "markdown",
   "metadata": {},
   "source": []
  }
 ],
 "metadata": {
  "kernelspec": {
   "display_name": "Python 3",
   "language": "python",
   "name": "python3"
  },
  "language_info": {
   "codemirror_mode": {
    "name": "ipython",
    "version": 3
   },
   "file_extension": ".py",
   "mimetype": "text/x-python",
   "name": "python",
   "nbconvert_exporter": "python",
   "pygments_lexer": "ipython3",
   "version": "3.6.0"
  }
 },
 "nbformat": 4,
 "nbformat_minor": 2
}
